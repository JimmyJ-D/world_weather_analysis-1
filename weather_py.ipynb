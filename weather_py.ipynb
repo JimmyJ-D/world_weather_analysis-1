{
 "cells": [
  {
   "cell_type": "markdown",
   "metadata": {},
   "source": [
    "# Weather "
   ]
  },
  {
   "cell_type": "code",
   "execution_count": 5,
   "metadata": {},
   "outputs": [],
   "source": [
    "# Dependencies \n",
    "import pandas as pd \n",
    "import matplotlib.pyplot as plt\n",
    "import numpy as np\n",
    "import random\n",
    "from citipy import citipy"
   ]
  },
  {
   "cell_type": "code",
   "execution_count": 2,
   "metadata": {},
   "outputs": [
    {
     "data": {
      "text/plain": [
       "<zip at 0x7fea6223adc0>"
      ]
     },
     "execution_count": 2,
     "metadata": {},
     "output_type": "execute_result"
    }
   ],
   "source": [
    "# Create 1500 random latitude and longitude coordinates \n",
    "latitudes = np.random.uniform(-90, 90, size = 1500)\n",
    "longitudes = np.random.uniform(-180, 180, size = 1500)\n",
    "coordinates = zip(latitudes, longitudes)\n",
    "coordinates"
   ]
  },
  {
   "cell_type": "code",
   "execution_count": 3,
   "metadata": {},
   "outputs": [],
   "source": [
    "# Add coordinates to a list \n",
    "coordinates_lst = list(coordinates)"
   ]
  },
  {
   "cell_type": "code",
   "execution_count": 17,
   "metadata": {},
   "outputs": [
    {
     "data": {
      "text/plain": [
       "620"
      ]
     },
     "execution_count": 17,
     "metadata": {},
     "output_type": "execute_result"
    }
   ],
   "source": [
    "# Create list for cities \n",
    "cities = []\n",
    "\n",
    "# Use citipy to find nearest cities using coordinate list\n",
    "for coordinate in coordinates_lst:\n",
    "    city = citipy.nearest_city(coordinate[0],coordinate[1])\n",
    "    city_name = city.city_name\n",
    "    country_name = city.country_code\n",
    "    \n",
    "    # Find unique cities to add to cities list\n",
    "    if city_name not in cities:\n",
    "        cities.append(city_name)\n",
    "    \n",
    "    # See cities and contries\n",
    "    # print(f'{city_name}, {country_name}')\n",
    "\n",
    "# Count amount of unique cities\n",
    "len(cities)"
   ]
  },
  {
   "cell_type": "code",
   "execution_count": null,
   "metadata": {},
   "outputs": [],
   "source": []
  }
 ],
 "metadata": {
  "kernelspec": {
   "display_name": "PythonData",
   "language": "python",
   "name": "pythondata"
  },
  "language_info": {
   "codemirror_mode": {
    "name": "ipython",
    "version": 3
   },
   "file_extension": ".py",
   "mimetype": "text/x-python",
   "name": "python",
   "nbconvert_exporter": "python",
   "pygments_lexer": "ipython3",
   "version": "3.8.3"
  }
 },
 "nbformat": 4,
 "nbformat_minor": 4
}
